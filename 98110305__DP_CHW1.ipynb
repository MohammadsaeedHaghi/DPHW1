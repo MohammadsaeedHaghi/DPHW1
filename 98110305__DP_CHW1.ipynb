{
  "nbformat": 4,
  "nbformat_minor": 0,
  "metadata": {
    "colab": {
      "provenance": []
    },
    "kernelspec": {
      "name": "python3",
      "display_name": "Python 3"
    },
    "language_info": {
      "name": "python"
    }
  },
  "cells": [
    {
      "cell_type": "markdown",
      "source": [
        "#**Data Privacy: Computer Homework 01**\n",
        "\n",
        "\n",
        "Sharif Univesity of  Technology - EE dept.\n",
        "\n",
        "by Prof. Yassaee, Fall 2023\n",
        "\n",
        "Contact *@danialayati* if you have any questions."
      ],
      "metadata": {
        "id": "WuNzHSoAucZH"
      }
    },
    {
      "cell_type": "markdown",
      "source": [
        "*Release Date:* 7 Azar 1402\n",
        "\n",
        "*Soft Deadline:* 21 Azar 1402 - 23:55\n",
        "\n",
        "*Hard Deadline:* 25 Azar 1402 - 23:55"
      ],
      "metadata": {
        "id": "heYL_vVRxvuw"
      }
    },
    {
      "cell_type": "markdown",
      "source": [
        "\n",
        "\n",
        "---\n",
        "\n"
      ],
      "metadata": {
        "id": "H3RRcMK84UCp"
      }
    },
    {
      "cell_type": "markdown",
      "source": [
        "# *Question 1*: In this question we want to demonstrate membership inference attacks on means by test statistics\n",
        "\n"
      ],
      "metadata": {
        "id": "_AjQfJ3qvtl3"
      }
    },
    {
      "cell_type": "markdown",
      "source": [
        "First, tuneable simulation parameters:"
      ],
      "metadata": {
        "id": "e-yZ5CzmxM_-"
      }
    },
    {
      "cell_type": "code",
      "source": [
        "import numpy as np\n",
        "from scipy import stats\n",
        "import math\n",
        "np.random.seed(123)\n",
        "\n",
        "n_sim = 1000\n",
        "n_sample = 10\n",
        "k_att = 100\n"
      ],
      "metadata": {
        "id": "leX1G942xQu8"
      },
      "execution_count": 1,
      "outputs": []
    },
    {
      "cell_type": "markdown",
      "source": [
        "Then, define utility functions for simulating data and calculating the test statistics:\n"
      ],
      "metadata": {
        "id": "zNeT_lXExRek"
      }
    },
    {
      "cell_type": "code",
      "source": [
        "def synthesize(pop_prob, n = 1):\n",
        "  x = np.random.binomial(n = 1, p = pop_prob, size = (n, len(pop_prob)))\n",
        "  return x\n",
        "\n",
        "def test_homer(s, sample_mean, pop_mean):\n",
        "  test_stat = sum(abs(s - pop_mean) - abs(s - sample_mean))\n",
        "  return test_stat\n",
        "\n",
        "def test_dwork(s, sample_mean, pop_mean):\n",
        "    test_stat = sum((s - pop_mean) * (sample_mean - pop_mean) )\n",
        "    return test_stat\n",
        "\n",
        "def null_dist(function, pop_prob, pop_mean, null_sims=1000, alpha=0.05) :\n",
        "    h = []\n",
        "    for _ in range(null_sims):\n",
        "        sample_mean = synthesize(pop_prob, n_sample).mean(axis=0)\n",
        "        null_s = synthesize(pop_prob)[0]\n",
        "        h.append(function(null_s, sample_mean, pop_mean))\n",
        "\n",
        "    null_dist_values = np.sort(h)[::-1]\n",
        "    critical_value = null_dist_values[round(alpha * null_sims)]\n",
        "    return {\n",
        "        \"null_dist_values\": null_dist_values,\n",
        "        \"critical_value\": null_dist_values[round(alpha * null_sims)]\n",
        "    }"
      ],
      "metadata": {
        "id": "Osj2GnZjxbb1"
      },
      "execution_count": 2,
      "outputs": []
    },
    {
      "cell_type": "markdown",
      "source": [
        "Create Simple graph function for showing the distribution, partitioned by critical value, then Simulate and graph a null distribution:"
      ],
      "metadata": {
        "id": "vzkCkUoOxb53"
      }
    },
    {
      "cell_type": "code",
      "source": [
        "import matplotlib.pyplot as plt\n",
        "\n",
        "def show_distribution(t_stats, critical_value, title) :\n",
        "    # Create gaussian KDE and support points\n",
        "    kernel = stats.gaussian_kde(t_stats)\n",
        "    support = np.linspace(min(t_stats) - kernel.factor, max(t_stats) + kernel.factor, num=500)\n",
        "    densities = kernel(support)\n",
        "    # Flag critical value bound\n",
        "    flag = support < critical_value\n",
        "    max_density = max(densities)\n",
        "\n",
        "    plt.fill_between(support[flag], densities[flag], color='#005aef80')\n",
        "    plt.fill_between(support[~flag], densities[~flag], color='#ef5c0080')\n",
        "\n",
        "    plt.axvline(x=critical_value)\n",
        "    plt.text(x=critical_value, y=0.8*max_density, s=\" IN\", horizontalalignment='left')\n",
        "    plt.text(x=critical_value, y=0.8*max_density, s=\"OUT \", horizontalalignment='right')\n",
        "    plt.text(x=critical_value, y=0.7*max_density, s=f' {(t_stats > critical_value).mean():.2}', horizontalalignment='left')\n",
        "\n",
        "    plt.title(title)\n",
        "    plt.xlabel(\"Test Statistic\")\n",
        "    plt.ylabel(\"Density\")\n",
        "    plt.show()\n",
        "\n",
        "# Generate random probabilities for the population\n",
        "pop_prob = np.random.uniform(size = k_att)\n",
        "pop_mean = pop_prob\n",
        "\n",
        "# Find the null distribution\n",
        "dist = null_dist(test_homer, pop_prob, pop_mean)\n",
        "dist_values = dist[\"null_dist_values\"]\n",
        "critical_value = dist[\"critical_value\"]\n",
        "show_distribution(dist_values, critical_value, title=\"Null Distribution with Critical Value\")\n",
        "plt.show()"
      ],
      "metadata": {
        "id": "9NJ7hdIO257A",
        "colab": {
          "base_uri": "https://localhost:8080/",
          "height": 472
        },
        "outputId": "d1bf4921-e7c7-477d-e84b-c45c26c83829"
      },
      "execution_count": 3,
      "outputs": [
        {
          "output_type": "display_data",
          "data": {
            "text/plain": [
              "<Figure size 640x480 with 1 Axes>"
            ],
            "image/png": "[encoded data removed]"
          },
          "metadata": {}
        }
      ]
    },
    {
      "cell_type": "markdown",
      "source": [
        "Now create a complete simulation of attack. We are going to iterate across datasets, calculate the discrimination of the test statistic among observations in the private data and the null population."
      ],
      "metadata": {
        "id": "WKos0e8k3rOn"
      }
    },
    {
      "cell_type": "code",
      "source": [
        "import numpy as np\n",
        "\n",
        "history = np.zeros(shape=(n_sim, 4))\n",
        "alpha = 0.05\n",
        "# Generate null distributions\n",
        "homer_dist = null_dist(test_homer, pop_prob, pop_mean, alpha = alpha)\n",
        "dwork_dist = null_dist(test_dwork, pop_prob, pop_mean, alpha = alpha)\n",
        "\n",
        "for i in range(n_sim):\n",
        "    # Generate sample\n",
        "    sample = synthesize(pop_prob, n_sample)\n",
        "    sample_mean = sample.mean(axis=0)\n",
        "    s = sample[0]\n",
        "    null_s = synthesize(pop_prob)[0]\n",
        "    # Store test results in history\n",
        "    history[i, :] = [\n",
        "        test_homer(s, sample_mean, pop_mean),\n",
        "        test_homer(null_s, sample_mean, pop_mean),\n",
        "        test_dwork(s, sample_mean, pop_mean),\n",
        "        test_dwork(null_s, sample_mean, pop_mean)\n",
        "    ]\n",
        "\n",
        "# Plot\n",
        "show_distribution(history[:, 0], homer_dist[\"critical_value\"], \"Homer Test Actual Sample\")\n",
        "show_distribution(history[:, 1], homer_dist[\"critical_value\"], \"Homer Test Synthetic Sample\")\n",
        "show_distribution(history[:, 2], dwork_dist[\"critical_value\"], \"Dwork Test Actual Sample\")\n",
        "show_distribution(history[:, 3], dwork_dist[\"critical_value\"], \"Dwork Test Synthetic Sample\")\n"
      ],
      "metadata": {
        "id": "SBf3yE2T30MI",
        "colab": {
          "base_uri": "https://localhost:8080/",
          "height": 1000
        },
        "outputId": "75d4d987-3147-406c-dd1d-d4cadd253b4e"
      },
      "execution_count": 45,
      "outputs": [
        {
          "output_type": "display_data",
          "data": {
            "text/plain": [
              "<Figure size 640x480 with 1 Axes>"
            ],
            "image/png": "[encoded data removed]"
          },
          "metadata": {}
        },
        {
          "output_type": "display_data",
          "data": {
            "text/plain": [
              "<Figure size 640x480 with 1 Axes>"
            ],
            "image/png": "[encoded data removed]"
          },
          "metadata": {}
        },
        {
          "output_type": "display_data",
          "data": {
            "text/plain": [
              "<Figure size 640x480 with 1 Axes>"
            ],
            "image/png": "[encoded data removed]"
          },
          "metadata": {}
        },
        {
          "output_type": "display_data",
          "data": {
            "text/plain": [
              "<Figure size 640x480 with 1 Axes>"
            ],
            "image/png": "[encoded data removed]"
          },
          "metadata": {}
        }
      ]
    },
    {
      "cell_type": "markdown",
      "source": [
        "\n",
        "\n",
        "---\n",
        "\n"
      ],
      "metadata": {
        "id": "rfYBjBM24Z1b"
      }
    },
    {
      "cell_type": "markdown",
      "source": [
        "# *Question 2:* Now Let's bulid  Laplace Mechanism for Differential Privacy"
      ],
      "metadata": {
        "id": "ZgFaXq_l3-n3"
      }
    },
    {
      "cell_type": "markdown",
      "source": [
        "First, construct the basic building blocks for a Laplace mechanism, a random sampler from the distribution, a clamp/clip/censor function, the function for the true mean, and then the DP release algorithm itself."
      ],
      "metadata": {
        "id": "enaMY8LD4Oyq"
      }
    },
    {
      "cell_type": "code",
      "source": [
        "import numpy as np\n",
        "\n",
        "def random_laplace_sampler(n, eps, delta, lc) :\n",
        "  return np.random.laplace(loc=lc, scale=delta/eps, size=n)\n",
        "\n",
        "def clamp(x, lower, upper) :\n",
        "  return np.clip(x, lower, upper)\n",
        "\n",
        "\n",
        "def release_dp_mean(x, epsilon, lower, upper):\n",
        "    n = len(x)\n",
        "    sensitivity = (upper-lower)/n\n",
        "    scale = sensitivity/epsilon\n",
        "    sensitive_answer = bounded_mean(x, bounds)\n",
        "    dp_mean = sensitive_answer + laplace(shift=0., scale=scale)\n",
        "    return dp_mean\n",
        "\n",
        "def bounded_mean(x, lower, upper) :\n",
        "  y = clamp(x, lower, upper)\n",
        "  return np.mean(clamp(x, lower, upper))\n"
      ],
      "metadata": {
        "id": "6B3_DDBj4x-8"
      },
      "execution_count": 49,
      "outputs": []
    },
    {
      "cell_type": "markdown",
      "source": [
        "Read in the data.  We're going to use the PUMS dataset, and focus on the education variable, a 16 point scale:"
      ],
      "metadata": {
        "id": "bsrL8AfM42SS"
      }
    },
    {
      "cell_type": "code",
      "source": [
        "import pandas as pd\n",
        "data = pd.read_csv(\n",
        "    \"https://raw.githubusercontent.com/opendp/cs208/main/spring2022/data/FultonPUMS5full.csv\")\n",
        "educ = data['educ'].values.astype(float)\n"
      ],
      "metadata": {
        "id": "vu5UgKjl46UQ"
      },
      "execution_count": 50,
      "outputs": []
    },
    {
      "cell_type": "markdown",
      "source": [
        "Now that we have a mechanism available, let's try a new one, the histogram.  Histograms give counts of the number of observations within defined partitions of the variable domain.  Consider carefully the sensitivity for the histogram, which depends on which definition of neighbouring we are using. After that,  call your privacy-preserving histogram."
      ],
      "metadata": {
        "id": "1C7RZEUQ49Xu"
      }
    },
    {
      "cell_type": "code",
      "source": [
        "import matplotlib.pyplot as plt\n",
        "\n",
        "# Counting function\n",
        "def range_query(df, col, a, b):\n",
        "  return len(df[(df[col] >= a) & (df[col] < b)])\n",
        "\n",
        "def dp_histogram(epsilon, df = data, col = 'educ', bins = list(range(1, 17))) :\n",
        "  counts = [range_query(df, col, b, b+1) for b in bins]\n",
        "  sensitivity = 1\n",
        "  scale = sensitivity/epsilon\n",
        "  dp_his = [(c + np.random.laplace(loc = 0.0, scale = scale)) for c in counts]\n",
        "  return dp_his\n",
        "\n",
        "# Example for epsilon = 2\n",
        "display(dp_histogram(epsilon = 2))"
      ],
      "metadata": {
        "id": "g7uYnBC65ITe",
        "colab": {
          "base_uri": "https://localhost:8080/",
          "height": 295
        },
        "outputId": "4b0d97d2-20fa-4e4b-8578-ebf06d6c21e9"
      },
      "execution_count": 52,
      "outputs": [
        {
          "output_type": "display_data",
          "data": {
            "text/plain": [
              "[272.48605405537774,\n",
              " 141.2454956195675,\n",
              " 356.07143475609496,\n",
              " 468.4274486547026,\n",
              " 496.83729698165985,\n",
              " 756.5076662289914,\n",
              " 893.7063547346517,\n",
              " 1060.0433139004244,\n",
              " 5147.978030420957,\n",
              " 1396.0302558407323,\n",
              " 3962.9911472269114,\n",
              " 1155.0617727616523,\n",
              " 6283.930539753297,\n",
              " 2269.838912463283,\n",
              " 794.6098915533435,\n",
              " 308.7643200028755]"
            ]
          },
          "metadata": {}
        }
      ]
    },
    {
      "cell_type": "markdown",
      "source": [
        "Now we want to to simulate repeated draws from the Laplace mechanism to examine the utility it offers over the range of epsilon values and dataset sizes, for our education variable. We'll need a way to construct new datasets, given we only have one available.  The (nonparametric) bootstrap function lets us construct datasets even larger than our original source data if needed, by treating the sample data as if it is a population from which we can resample."
      ],
      "metadata": {
        "id": "otTQeayT5TvV"
      }
    },
    {
      "cell_type": "code",
      "source": [
        "def bootstrap(data, sample_size = 1000) :\n",
        "    n = len(data)\n",
        "    bootstrap_samples = []\n",
        "    indices = np.random.randint(0, n, sample_size)\n",
        "    bootstrap_sample = data[indices]\n",
        "    return bootstrap_sample\n",
        "\n",
        "eps_seq = np.random.rand(10)\n",
        "ds_size = np.random.randint(1, 3000, size = 10)\n",
        "dp_means = []\n",
        "data_frame = []\n",
        "\n",
        "for n in ds_size :\n",
        "  for e in eps_seq :\n",
        "    d = bootstrap(educ, n)\n",
        "    mean = true_mean(d)\n",
        "    dp_mean = release_dp_mean(d, e, 1, 16)\n",
        "    err = (dp_mean - mean)**2\n",
        "    data_frame.append([n, e, mean, dp_mean, err])\n",
        "\n",
        "data_frame = pd.DataFrame(data_frame, columns=[\"Sample Size\", \"Epsilon\", \"Mean\", \"DP Mean\", \"Error\"])\n",
        "display(data_frame)"
      ],
      "metadata": {
        "id": "wqnQ3JqX5bb7",
        "colab": {
          "base_uri": "https://localhost:8080/",
          "height": 423
        },
        "outputId": "fc37fec0-b49e-4d7c-c5d4-0a7b00441603"
      },
      "execution_count": 10,
      "outputs": [
        {
          "output_type": "display_data",
          "data": {
            "text/plain": [
              "    Sample Size   Epsilon       Mean               DP Mean  \\\n",
              "0          2471  0.346703  10.662890   [10.70495561417723]   \n",
              "1          2471  0.083053  10.598543  [10.353193744984466]   \n",
              "2          2471  0.276483  10.558074  [10.580145467831539]   \n",
              "3          2471  0.625914  10.693242  [10.677071351455018]   \n",
              "4          2471  0.275223  10.582355   [10.59008503472128]   \n",
              "..          ...       ...        ...                   ...   \n",
              "95         1056  0.360557  10.679924  [10.716761907232055]   \n",
              "96         1056  0.968595  10.556818   [10.57518549445909]   \n",
              "97         1056  0.721079  10.685606    [10.6560174981656]   \n",
              "98         1056  0.691299  10.636364  [10.635066941228379]   \n",
              "99         1056  0.259972  10.556818  [10.490374510241093]   \n",
              "\n",
              "                       Error  \n",
              "0    [0.0017695564127950456]  \n",
              "1      [0.06019630598667977]  \n",
              "2    [0.0004871649485568344]  \n",
              "3    [0.0002614770217698209]  \n",
              "4     [5.97484628952081e-05]  \n",
              "..                       ...  \n",
              "95    [0.001357013548492754]  \n",
              "96  [0.00033735817364886965]  \n",
              "97   [0.0008754830272930487]  \n",
              "98  [1.6814182738011505e-06]  \n",
              "99    [0.004414761492644016]  \n",
              "\n",
              "[100 rows x 5 columns]"
            ],
            "text/html": [
              "\n",
              "  <div id=\"df-ad59ada2-be09-4c7a-a868-95b96105cd8c\" class=\"colab-df-container\">\n",
              "    <div>\n",
              "<style scoped>\n",
              "    .dataframe tbody tr th:only-of-type {\n",
              "        vertical-align: middle;\n",
              "    }\n",
              "\n",
              "    .dataframe tbody tr th {\n",
              "        vertical-align: top;\n",
              "    }\n",
              "\n",
              "    .dataframe thead th {\n",
              "        text-align: right;\n",
              "    }\n",
              "</style>\n",
              "<table border=\"1\" class=\"dataframe\">\n",
              "  <thead>\n",
              "    <tr style=\"text-align: right;\">\n",
              "      <th></th>\n",
              "      <th>Sample Size</th>\n",
              "      <th>Epsilon</th>\n",
              "      <th>Mean</th>\n",
              "      <th>DP Mean</th>\n",
              "      <th>Error</th>\n",
              "    </tr>\n",
              "  </thead>\n",
              "  <tbody>\n",
              "    <tr>\n",
              "      <th>0</th>\n",
              "      <td>2471</td>\n",
              "      <td>0.346703</td>\n",
              "      <td>10.662890</td>\n",
              "      <td>[10.70495561417723]</td>\n",
              "      <td>[0.0017695564127950456]</td>\n",
              "    </tr>\n",
              "    <tr>\n",
              "      <th>1</th>\n",
              "      <td>2471</td>\n",
              "      <td>0.083053</td>\n",
              "      <td>10.598543</td>\n",
              "      <td>[10.353193744984466]</td>\n",
              "      <td>[0.06019630598667977]</td>\n",
              "    </tr>\n",
              "    <tr>\n",
              "      <th>2</th>\n",
              "      <td>2471</td>\n",
              "      <td>0.276483</td>\n",
              "      <td>10.558074</td>\n",
              "      <td>[10.580145467831539]</td>\n",
              "      <td>[0.0004871649485568344]</td>\n",
              "    </tr>\n",
              "    <tr>\n",
              "      <th>3</th>\n",
              "      <td>2471</td>\n",
              "      <td>0.625914</td>\n",
              "      <td>10.693242</td>\n",
              "      <td>[10.677071351455018]</td>\n",
              "      <td>[0.0002614770217698209]</td>\n",
              "    </tr>\n",
              "    <tr>\n",
              "      <th>4</th>\n",
              "      <td>2471</td>\n",
              "      <td>0.275223</td>\n",
              "      <td>10.582355</td>\n",
              "      <td>[10.59008503472128]</td>\n",
              "      <td>[5.97484628952081e-05]</td>\n",
              "    </tr>\n",
              "    <tr>\n",
              "      <th>...</th>\n",
              "      <td>...</td>\n",
              "      <td>...</td>\n",
              "      <td>...</td>\n",
              "      <td>...</td>\n",
              "      <td>...</td>\n",
              "    </tr>\n",
              "    <tr>\n",
              "      <th>95</th>\n",
              "      <td>1056</td>\n",
              "      <td>0.360557</td>\n",
              "      <td>10.679924</td>\n",
              "      <td>[10.716761907232055]</td>\n",
              "      <td>[0.001357013548492754]</td>\n",
              "    </tr>\n",
              "    <tr>\n",
              "      <th>96</th>\n",
              "      <td>1056</td>\n",
              "      <td>0.968595</td>\n",
              "      <td>10.556818</td>\n",
              "      <td>[10.57518549445909]</td>\n",
              "      <td>[0.00033735817364886965]</td>\n",
              "    </tr>\n",
              "    <tr>\n",
              "      <th>97</th>\n",
              "      <td>1056</td>\n",
              "      <td>0.721079</td>\n",
              "      <td>10.685606</td>\n",
              "      <td>[10.6560174981656]</td>\n",
              "      <td>[0.0008754830272930487]</td>\n",
              "    </tr>\n",
              "    <tr>\n",
              "      <th>98</th>\n",
              "      <td>1056</td>\n",
              "      <td>0.691299</td>\n",
              "      <td>10.636364</td>\n",
              "      <td>[10.635066941228379]</td>\n",
              "      <td>[1.6814182738011505e-06]</td>\n",
              "    </tr>\n",
              "    <tr>\n",
              "      <th>99</th>\n",
              "      <td>1056</td>\n",
              "      <td>0.259972</td>\n",
              "      <td>10.556818</td>\n",
              "      <td>[10.490374510241093]</td>\n",
              "      <td>[0.004414761492644016]</td>\n",
              "    </tr>\n",
              "  </tbody>\n",
              "</table>\n",
              "<p>100 rows × 5 columns</p>\n",
              "</div>\n",
              "    <div class=\"colab-df-buttons\">\n",
              "\n",
              "  <div class=\"colab-df-container\">\n",
              "    <button class=\"colab-df-convert\" onclick=\"convertToInteractive('df-ad59ada2-be09-4c7a-a868-95b96105cd8c')\"\n",
              "            title=\"Convert this dataframe to an interactive table.\"\n",
              "            style=\"display:none;\">\n",
              "\n",
              "  <svg xmlns=\"http://www.w3.org/2000/svg\" height=\"24px\" viewBox=\"0 -960 960 960\">\n",
              "    <path d=\"M120-120v-720h720v720H120Zm60-500h600v-160H180v160Zm220 220h160v-160H400v160Zm0 220h160v-160H400v160ZM180-400h160v-160H180v160Zm440 0h160v-160H620v160ZM180-180h160v-160H180v160Zm440 0h160v-160H620v160Z\"/>\n",
              "  </svg>\n",
              "    </button>\n",
              "\n",
              "  <style>\n",
              "    .colab-df-container {\n",
              "      display:flex;\n",
              "      gap: 12px;\n",
              "    }\n",
              "\n",
              "    .colab-df-convert {\n",
              "      background-color: #E8F0FE;\n",
              "      border: none;\n",
              "      border-radius: 50%;\n",
              "      cursor: pointer;\n",
              "      display: none;\n",
              "      fill: #1967D2;\n",
              "      height: 32px;\n",
              "      padding: 0 0 0 0;\n",
              "      width: 32px;\n",
              "    }\n",
              "\n",
              "    .colab-df-convert:hover {\n",
              "      background-color: #E2EBFA;\n",
              "      box-shadow: 0px 1px 2px rgba(60, 64, 67, 0.3), 0px 1px 3px 1px rgba(60, 64, 67, 0.15);\n",
              "      fill: #174EA6;\n",
              "    }\n",
              "\n",
              "    .colab-df-buttons div {\n",
              "      margin-bottom: 4px;\n",
              "    }\n",
              "\n",
              "    [theme=dark] .colab-df-convert {\n",
              "      background-color: #3B4455;\n",
              "      fill: #D2E3FC;\n",
              "    }\n",
              "\n",
              "    [theme=dark] .colab-df-convert:hover {\n",
              "      background-color: #434B5C;\n",
              "      box-shadow: 0px 1px 3px 1px rgba(0, 0, 0, 0.15);\n",
              "      filter: drop-shadow(0px 1px 2px rgba(0, 0, 0, 0.3));\n",
              "      fill: #FFFFFF;\n",
              "    }\n",
              "  </style>\n",
              "\n",
              "    <script>\n",
              "      const buttonEl =\n",
              "        document.querySelector('#df-ad59ada2-be09-4c7a-a868-95b96105cd8c button.colab-df-convert');\n",
              "      buttonEl.style.display =\n",
              "        google.colab.kernel.accessAllowed ? 'block' : 'none';\n",
              "\n",
              "      async function convertToInteractive(key) {\n",
              "        const element = document.querySelector('#df-ad59ada2-be09-4c7a-a868-95b96105cd8c');\n",
              "        const dataTable =\n",
              "          await google.colab.kernel.invokeFunction('convertToInteractive',\n",
              "                                                    [key], {});\n",
              "        if (!dataTable) return;\n",
              "\n",
              "        const docLinkHtml = 'Like what you see? Visit the ' +\n",
              "          '<a target=\"_blank\" href=https://colab.research.google.com/notebooks/data_table.ipynb>data table notebook</a>'\n",
              "          + ' to learn more about interactive tables.';\n",
              "        element.innerHTML = '';\n",
              "        dataTable['output_type'] = 'display_data';\n",
              "        await google.colab.output.renderOutput(dataTable, element);\n",
              "        const docLink = document.createElement('div');\n",
              "        docLink.innerHTML = docLinkHtml;\n",
              "        element.appendChild(docLink);\n",
              "      }\n",
              "    </script>\n",
              "  </div>\n",
              "\n",
              "\n",
              "<div id=\"df-d1aed241-1519-4f2b-8cfb-198aecb328f6\">\n",
              "  <button class=\"colab-df-quickchart\" onclick=\"quickchart('df-d1aed241-1519-4f2b-8cfb-198aecb328f6')\"\n",
              "            title=\"Suggest charts\"\n",
              "            style=\"display:none;\">\n",
              "\n",
              "<svg xmlns=\"http://www.w3.org/2000/svg\" height=\"24px\"viewBox=\"0 0 24 24\"\n",
              "     width=\"24px\">\n",
              "    <g>\n",
              "        <path d=\"M19 3H5c-1.1 0-2 .9-2 2v14c0 1.1.9 2 2 2h14c1.1 0 2-.9 2-2V5c0-1.1-.9-2-2-2zM9 17H7v-7h2v7zm4 0h-2V7h2v10zm4 0h-2v-4h2v4z\"/>\n",
              "    </g>\n",
              "</svg>\n",
              "  </button>\n",
              "\n",
              "<style>\n",
              "  .colab-df-quickchart {\n",
              "      --bg-color: #E8F0FE;\n",
              "      --fill-color: #1967D2;\n",
              "      --hover-bg-color: #E2EBFA;\n",
              "      --hover-fill-color: #174EA6;\n",
              "      --disabled-fill-color: #AAA;\n",
              "      --disabled-bg-color: #DDD;\n",
              "  }\n",
              "\n",
              "  [theme=dark] .colab-df-quickchart {\n",
              "      --bg-color: #3B4455;\n",
              "      --fill-color: #D2E3FC;\n",
              "      --hover-bg-color: #434B5C;\n",
              "      --hover-fill-color: #FFFFFF;\n",
              "      --disabled-bg-color: #3B4455;\n",
              "      --disabled-fill-color: #666;\n",
              "  }\n",
              "\n",
              "  .colab-df-quickchart {\n",
              "    background-color: var(--bg-color);\n",
              "    border: none;\n",
              "    border-radius: 50%;\n",
              "    cursor: pointer;\n",
              "    display: none;\n",
              "    fill: var(--fill-color);\n",
              "    height: 32px;\n",
              "    padding: 0;\n",
              "    width: 32px;\n",
              "  }\n",
              "\n",
              "  .colab-df-quickchart:hover {\n",
              "    background-color: var(--hover-bg-color);\n",
              "    box-shadow: 0 1px 2px rgba(60, 64, 67, 0.3), 0 1px 3px 1px rgba(60, 64, 67, 0.15);\n",
              "    fill: var(--button-hover-fill-color);\n",
              "  }\n",
              "\n",
              "  .colab-df-quickchart-complete:disabled,\n",
              "  .colab-df-quickchart-complete:disabled:hover {\n",
              "    background-color: var(--disabled-bg-color);\n",
              "    fill: var(--disabled-fill-color);\n",
              "    box-shadow: none;\n",
              "  }\n",
              "\n",
              "  .colab-df-spinner {\n",
              "    border: 2px solid var(--fill-color);\n",
              "    border-color: transparent;\n",
              "    border-bottom-color: var(--fill-color);\n",
              "    animation:\n",
              "      spin 1s steps(1) infinite;\n",
              "  }\n",
              "\n",
              "  @keyframes spin {\n",
              "    0% {\n",
              "      border-color: transparent;\n",
              "      border-bottom-color: var(--fill-color);\n",
              "      border-left-color: var(--fill-color);\n",
              "    }\n",
              "    20% {\n",
              "      border-color: transparent;\n",
              "      border-left-color: var(--fill-color);\n",
              "      border-top-color: var(--fill-color);\n",
              "    }\n",
              "    30% {\n",
              "      border-color: transparent;\n",
              "      border-left-color: var(--fill-color);\n",
              "      border-top-color: var(--fill-color);\n",
              "      border-right-color: var(--fill-color);\n",
              "    }\n",
              "    40% {\n",
              "      border-color: transparent;\n",
              "      border-right-color: var(--fill-color);\n",
              "      border-top-color: var(--fill-color);\n",
              "    }\n",
              "    60% {\n",
              "      border-color: transparent;\n",
              "      border-right-color: var(--fill-color);\n",
              "    }\n",
              "    80% {\n",
              "      border-color: transparent;\n",
              "      border-right-color: var(--fill-color);\n",
              "      border-bottom-color: var(--fill-color);\n",
              "    }\n",
              "    90% {\n",
              "      border-color: transparent;\n",
              "      border-bottom-color: var(--fill-color);\n",
              "    }\n",
              "  }\n",
              "</style>\n",
              "\n",
              "  <script>\n",
              "    async function quickchart(key) {\n",
              "      const quickchartButtonEl =\n",
              "        document.querySelector('#' + key + ' button');\n",
              "      quickchartButtonEl.disabled = true;  // To prevent multiple clicks.\n",
              "      quickchartButtonEl.classList.add('colab-df-spinner');\n",
              "      try {\n",
              "        const charts = await google.colab.kernel.invokeFunction(\n",
              "            'suggestCharts', [key], {});\n",
              "      } catch (error) {\n",
              "        console.error('Error during call to suggestCharts:', error);\n",
              "      }\n",
              "      quickchartButtonEl.classList.remove('colab-df-spinner');\n",
              "      quickchartButtonEl.classList.add('colab-df-quickchart-complete');\n",
              "    }\n",
              "    (() => {\n",
              "      let quickchartButtonEl =\n",
              "        document.querySelector('#df-d1aed241-1519-4f2b-8cfb-198aecb328f6 button');\n",
              "      quickchartButtonEl.style.display =\n",
              "        google.colab.kernel.accessAllowed ? 'block' : 'none';\n",
              "    })();\n",
              "  </script>\n",
              "</div>\n",
              "    </div>\n",
              "  </div>\n"
            ]
          },
          "metadata": {}
        }
      ]
    },
    {
      "cell_type": "markdown",
      "source": [
        "Now graph your resluts!"
      ],
      "metadata": {
        "id": "4yQqsvUp5vSK"
      }
    },
    {
      "cell_type": "code",
      "source": [
        "plt.plot(data_frame['Epsilon'], data_frame['Error'], 'o')\n",
        "plt.xlabel(\"Epsilon\")\n",
        "plt.ylabel(\"Error\")\n",
        "plt.show()"
      ],
      "metadata": {
        "id": "XITlqcvOLk6m",
        "colab": {
          "base_uri": "https://localhost:8080/",
          "height": 449
        },
        "outputId": "ef9bf66a-16cd-4cff-8b0b-1e5c8f846cc3"
      },
      "execution_count": 16,
      "outputs": [
        {
          "output_type": "display_data",
          "data": {
            "text/plain": [
              "<Figure size 640x480 with 1 Axes>"
            ],
            "image/png": "[encoded data removed]"
          },
          "metadata": {}
        }
      ]
    },
    {
      "cell_type": "markdown",
      "source": [
        "\n",
        "\n",
        "---\n",
        "\n"
      ],
      "metadata": {
        "id": "UrlbO8zM57vz"
      }
    },
    {
      "cell_type": "markdown",
      "source": [
        "# *Question 3:* OPENDP"
      ],
      "metadata": {
        "id": "3AR03ib859bE"
      }
    },
    {
      "cell_type": "markdown",
      "source": [
        "The OpenDP Project is a community effort to build trustworthy, open source software tools for analysis of private data. The core software of the OpenDP Project is the OpenDP Library.\n",
        "\n",
        "The OpenDP Library is a modular collection of statistical algorithms that adhere to differential privacy. The library is based on a conceptual framework described in [A Programming Framework for OpenDP](https://projects.iq.harvard.edu/files/opendp/files/opendp_programming_framework_11may2020_1_01.pdf).\n",
        "\n",
        "The OpenDP Library can be found on GitHub: https://github.com/opendp/opendp/"
      ],
      "metadata": {
        "id": "EkP6EhcS6MvH"
      }
    },
    {
      "cell_type": "markdown",
      "source": [
        "OpenDP represents computations with Transformations and Measurements. First, recall all you need from opendp, then create a measurement that simply addds laplace noise and like a function."
      ],
      "metadata": {
        "id": "-_EoWXEQ6Q9G"
      }
    },
    {
      "cell_type": "code",
      "source": [
        "!#pip install opendp\n",
        "from opendp.measurements import *\n",
        "from opendp.domains import atom_domain, vector_domain\n",
        "from opendp.metrics import absolute_distance, symmetric_distance\n",
        "from opendp.mod import *\n",
        "from opendp.transformations import *\n",
        "enable_features(\"contrib\", \"floating-point\")\n",
        "\n",
        "# call the constructor to produce the measurement `base_lap`\n",
        "scale = .5\n",
        "base_laplace: Measurement = make_base_laplace(atom_domain(T=float), absolute_distance(T=float), scale = scale)\n",
        "\n",
        "\n",
        "# Example as a function\n",
        "print(base_laplace(arg=5.))\n",
        "\n",
        "lower = 1.\n",
        "upper = 16.\n",
        "sized_bounded_mean: Transformation = make_mean(input_domain = vector_domain(atom_domain((lower, upper)), educ.size),\n",
        "                                               input_metric = symmetric_distance())\n",
        "print(sized_bounded_mean(arg=educ))"
      ],
      "metadata": {
        "id": "KRzxtOm27-fM",
        "colab": {
          "base_uri": "https://localhost:8080/"
        },
        "outputId": "a409d90d-09b9-4905-e4ea-cd81d36ba319"
      },
      "execution_count": 54,
      "outputs": [
        {
          "output_type": "stream",
          "name": "stdout",
          "text": [
            "4.166132378324753\n",
            "10.608553908251183\n"
          ]
        }
      ]
    },
    {
      "cell_type": "markdown",
      "source": [
        "We can also chain transformations and measurements. You might already think of chaining as function composition. The reason why we call it \"chaining,\" instead of \"composition,\" is because composition has a special meaning in differential privacy. In the context of differential privacy, composition refers to the joint release of more than one measurement."
      ],
      "metadata": {
        "id": "i392fWaB7-ts"
      }
    },
    {
      "cell_type": "code",
      "source": [
        "# chain with the base_laplace measurement\n",
        "dp_mean: Measurement = sized_bounded_mean >> base_laplace\n",
        "\n",
        "# release a dp mean\n",
        "dp_mean(arg=educ)"
      ],
      "metadata": {
        "id": "92XHct9_8Jsn",
        "colab": {
          "base_uri": "https://localhost:8080/"
        },
        "outputId": "7c0d65ca-f8a4-434d-d4b0-51e54acb2245"
      },
      "execution_count": 18,
      "outputs": [
        {
          "output_type": "execute_result",
          "data": {
            "text/plain": [
              "10.48118882820885"
            ]
          },
          "metadata": {},
          "execution_count": 18
        }
      ]
    },
    {
      "cell_type": "markdown",
      "source": [
        "Now that we've shown how to build up computations and execute them, lets talk about distances.\n",
        "\n",
        "Transformations and Measurements relate distances. There are three kinds of distances:\n",
        "\n",
        "1. Dataset distances  \n",
        "    (greatest distance between neighboring datasets)\n",
        "1. Sensitivities  \n",
        "    (greatest distance between queries on neighboring datasets)\n",
        "1. Privacy budget    \n",
        "    (greatest distance between the probability distributions)\n",
        "\n",
        "The following shows how the `base_laplace` measurement relates a `sensitivity` to a privacy budget, `epsilon`."
      ],
      "metadata": {
        "id": "KgbR60D28KLD"
      }
    },
    {
      "cell_type": "code",
      "source": [
        "# Check that when sensitivity is 0.15, the privacy usage is .30\n",
        "base_laplace.check(d_in=.15, d_out=.30)"
      ],
      "metadata": {
        "id": "iMzc803A8TBD",
        "colab": {
          "base_uri": "https://localhost:8080/"
        },
        "outputId": "42d55773-fcdf-46a4-dc51-5e68a906e608"
      },
      "execution_count": 19,
      "outputs": [
        {
          "output_type": "execute_result",
          "data": {
            "text/plain": [
              "True"
            ]
          },
          "metadata": {},
          "execution_count": 19
        }
      ]
    },
    {
      "cell_type": "markdown",
      "source": [
        "We can interpret this as: If the sensitivity is .15, then we could release the query answer with `laplace(scale=.5)` noise at a privacy expenditure of `.3 epsilon`. Equivalently, this data release is `.3 differentially private`, or `.3-DP`, where the privacy units are implicitly in terms of epsilon.\n",
        "\n",
        "If we were to increase the sensitivity, the same relation would fail, and the release would not be `.3-DP`."
      ],
      "metadata": {
        "id": "ZnRRJvqv8ZmQ"
      }
    },
    {
      "cell_type": "code",
      "source": [
        "print(\"Checking for sensitivity .16 and privacy budget .30:\")\n",
        "print(base_laplace.check(d_in=0.16, d_out=0.30))\n",
        "\n",
        "print(\"Checking for sensitivity .15 and privacy budget .29:\")\n",
        "print(base_laplace.check(d_in=.15, d_out=.29))"
      ],
      "metadata": {
        "id": "94ba1j5T8eij",
        "colab": {
          "base_uri": "https://localhost:8080/"
        },
        "outputId": "a08507ef-02e5-4c30-9e64-96bde9f92d27"
      },
      "execution_count": 23,
      "outputs": [
        {
          "output_type": "stream",
          "name": "stdout",
          "text": [
            "Checking for sensitivity .16 and privacy budget .30:\n",
            "False\n",
            "Checking for sensitivity .15 and privacy budget .29:\n",
            "False\n"
          ]
        }
      ]
    },
    {
      "cell_type": "markdown",
      "source": [
        "As you might expect, the relation will also pass for any sensitivity that is smaller, or any privacy expenditure that is larger. And similarly, the `sized_bounded_mean` transformation relates a dataset distance `max_influence` to a `sensitivity`."
      ],
      "metadata": {
        "id": "mKcFJ6b-8fD7"
      }
    },
    {
      "cell_type": "code",
      "source": [
        "print(\"Checking for sensitivity .15 and privacy budget .31:\")\n",
        "print(base_laplace.check(d_in=0.15, d_out=0.31))\n",
        "\n",
        "print(\"Checking for sensitivity .14 and privacy budget .30:\")\n",
        "print(base_laplace.check(d_in=0.14, d_out=0.30))"
      ],
      "metadata": {
        "id": "NUpl3g-48i4d",
        "colab": {
          "base_uri": "https://localhost:8080/"
        },
        "outputId": "608c63f8-fe28-47c6-941e-ed6d8cb67853"
      },
      "execution_count": 30,
      "outputs": [
        {
          "output_type": "stream",
          "name": "stdout",
          "text": [
            "Checking for sensitivity .15 and privacy budget .31:\n",
            "True\n",
            "Checking for sensitivity .14 and privacy budget .30:\n",
            "True\n"
          ]
        }
      ]
    },
    {
      "cell_type": "markdown",
      "source": [
        "Now relate distances on chained computations. The units for the input and output distances come from the constituent transformations and measurements.\n",
        "\n",
        "For example, when we chain the `sized_bounded_mean` transformation and `base_laplace` measurement together, the input distance is a dataset distance, `max_influence`, and the output distance is measured in terms of a privacy budget, `epsilon`."
      ],
      "metadata": {
        "id": "23cVgs-R8jDK"
      }
    },
    {
      "cell_type": "code",
      "source": [
        "print(dp_mean.check(d_in=1, d_out=0.5))"
      ],
      "metadata": {
        "id": "eP63q_Qr8s3J",
        "colab": {
          "base_uri": "https://localhost:8080/"
        },
        "outputId": "514a4ea5-3f6c-40db-d7e0-155e28d37c1a"
      },
      "execution_count": 32,
      "outputs": [
        {
          "output_type": "stream",
          "name": "stdout",
          "text": [
            "True\n"
          ]
        }
      ]
    },
    {
      "cell_type": "markdown",
      "source": [
        "# *Question 4:* Gaussian Mechanism"
      ],
      "metadata": {
        "id": "TuESlhURALbF"
      }
    },
    {
      "cell_type": "markdown",
      "source": [
        "Let's extend the basic building blocks to include a Gaussian mechanism and a random sampler from the Gaussian."
      ],
      "metadata": {
        "id": "R2MFTHUQAa1M"
      }
    },
    {
      "cell_type": "code",
      "source": [
        "import numpy as np\n",
        "\n",
        "\n",
        "def gauss_release_dp_mean(x, epsilon, lower, upper):\n",
        "  n = len(x)\n",
        "  loc = bounded_mean(x, lower, upper)\n",
        "  # scince we have one element, L1 and L2 norms are equal\n",
        "  sensitivity = (upper-lower)/n\n",
        "  return random_gauss_sampler(1, epsilon, sensitivity, loc)"
      ],
      "metadata": {
        "id": "zTfZExsxAgUy"
      },
      "execution_count": 33,
      "outputs": []
    },
    {
      "cell_type": "markdown",
      "source": [
        "Read in the data. We are using the familiar PUMS dataset we are familiar with, and focusing on the education variable, a 16 point scale."
      ],
      "metadata": {
        "id": "AtrQxYvHAgdI"
      }
    },
    {
      "cell_type": "code",
      "source": [
        "import pandas as pd\n",
        "data = pd.read_csv(\n",
        "    \"https://raw.githubusercontent.com/opendp/cs208/main/spring2022/data/FultonPUMS5full.csv\")\n",
        "educ = data['educ'].values.astype(float)\n"
      ],
      "metadata": {
        "id": "qZhCxfFAAkrg"
      },
      "execution_count": 38,
      "outputs": []
    },
    {
      "cell_type": "markdown",
      "source": [
        "Now simulate repeated draws from both mechanisms to compare the utility they offer over a range of epsilon values and dataset sizes.  "
      ],
      "metadata": {
        "id": "mcpki0_5AnzS"
      }
    },
    {
      "cell_type": "code",
      "source": [
        "def random_gauss_sampler(n, eps, delta, lc) :\n",
        "  return np.random.normal(loc=lc, scale=delta/eps, size=n)\n",
        "\n",
        "\n",
        "eps_seq = np.random.rand(10)\n",
        "ds_size = np.random.randint(1, 3000, size = 10)\n",
        "dp_means = []\n",
        "data_frame = []\n",
        "\n",
        "for n in ds_size :\n",
        "  for e in eps_seq :\n",
        "    d = bootstrap(educ, n)\n",
        "    mean = true_mean(d)\n",
        "    laplace_dp_mean = release_dp_mean(d, e, 1, 16)\n",
        "    gauss_dp_mean = gauss_release_dp_mean(d, e, 1, 16)\n",
        "    # Err from laplace dp mean\n",
        "    err_l = (laplace_dp_mean - mean)**2\n",
        "    # Err from gaussian dp mean\n",
        "    err_g = (gauss_dp_mean - mean)**2\n",
        "    data_frame.append([n, e, err_l, err_g])\n",
        "\n",
        "data_frame = pd.DataFrame(data_frame, columns=[\"Sample Size\", \"Epsilon\", \"Laplace Err\", \"Gaussian Err\"])\n",
        "display(data_frame)"
      ],
      "metadata": {
        "id": "R5xv9lX3Aq0O",
        "colab": {
          "base_uri": "https://localhost:8080/",
          "height": 423
        },
        "outputId": "f1ad7829-3549-4569-f297-8a5c12c99685"
      },
      "execution_count": 42,
      "outputs": [
        {
          "output_type": "display_data",
          "data": {
            "text/plain": [
              "    Sample Size   Epsilon               Laplace Err              Gaussian Err\n",
              "0          1760  0.447104   [0.0011258321100739758]   [4.816064830445833e-05]\n",
              "1          1760  0.564018   [0.0006649931541543589]   [0.0006396821536369143]\n",
              "2          1760  0.398948   [0.0005715781392021112]   [0.0005212673281584553]\n",
              "3          1760  0.450834   [0.0017952772802170616]  [0.00011574802396068316]\n",
              "4          1760  0.490092  [0.00011651430878384936]   [2.188252536393106e-07]\n",
              "..          ...       ...                       ...                       ...\n",
              "95         2553  0.638603  [0.00012519025593828214]  [4.3208707040565707e-05]\n",
              "96         2553  0.792713   [9.610075673481075e-06]  [1.2963447464117889e-05]\n",
              "97         2553  0.012789      [0.7665625436767046]    [0.014308577920244894]\n",
              "98         2553  0.762809  [3.3857644397516173e-05]  [0.00015565633332592996]\n",
              "99         2553  0.949433  [0.00026405806621165835]  [2.8723527808131894e-06]\n",
              "\n",
              "[100 rows x 4 columns]"
            ],
            "text/html": [
              "\n",
              "  <div id=\"df-ead15d32-6ede-42a9-ab9d-21a24c6db376\" class=\"colab-df-container\">\n",
              "    <div>\n",
              "<style scoped>\n",
              "    .dataframe tbody tr th:only-of-type {\n",
              "        vertical-align: middle;\n",
              "    }\n",
              "\n",
              "    .dataframe tbody tr th {\n",
              "        vertical-align: top;\n",
              "    }\n",
              "\n",
              "    .dataframe thead th {\n",
              "        text-align: right;\n",
              "    }\n",
              "</style>\n",
              "<table border=\"1\" class=\"dataframe\">\n",
              "  <thead>\n",
              "    <tr style=\"text-align: right;\">\n",
              "      <th></th>\n",
              "      <th>Sample Size</th>\n",
              "      <th>Epsilon</th>\n",
              "      <th>Laplace Err</th>\n",
              "      <th>Gaussian Err</th>\n",
              "    </tr>\n",
              "  </thead>\n",
              "  <tbody>\n",
              "    <tr>\n",
              "      <th>0</th>\n",
              "      <td>1760</td>\n",
              "      <td>0.447104</td>\n",
              "      <td>[0.0011258321100739758]</td>\n",
              "      <td>[4.816064830445833e-05]</td>\n",
              "    </tr>\n",
              "    <tr>\n",
              "      <th>1</th>\n",
              "      <td>1760</td>\n",
              "      <td>0.564018</td>\n",
              "      <td>[0.0006649931541543589]</td>\n",
              "      <td>[0.0006396821536369143]</td>\n",
              "    </tr>\n",
              "    <tr>\n",
              "      <th>2</th>\n",
              "      <td>1760</td>\n",
              "      <td>0.398948</td>\n",
              "      <td>[0.0005715781392021112]</td>\n",
              "      <td>[0.0005212673281584553]</td>\n",
              "    </tr>\n",
              "    <tr>\n",
              "      <th>3</th>\n",
              "      <td>1760</td>\n",
              "      <td>0.450834</td>\n",
              "      <td>[0.0017952772802170616]</td>\n",
              "      <td>[0.00011574802396068316]</td>\n",
              "    </tr>\n",
              "    <tr>\n",
              "      <th>4</th>\n",
              "      <td>1760</td>\n",
              "      <td>0.490092</td>\n",
              "      <td>[0.00011651430878384936]</td>\n",
              "      <td>[2.188252536393106e-07]</td>\n",
              "    </tr>\n",
              "    <tr>\n",
              "      <th>...</th>\n",
              "      <td>...</td>\n",
              "      <td>...</td>\n",
              "      <td>...</td>\n",
              "      <td>...</td>\n",
              "    </tr>\n",
              "    <tr>\n",
              "      <th>95</th>\n",
              "      <td>2553</td>\n",
              "      <td>0.638603</td>\n",
              "      <td>[0.00012519025593828214]</td>\n",
              "      <td>[4.3208707040565707e-05]</td>\n",
              "    </tr>\n",
              "    <tr>\n",
              "      <th>96</th>\n",
              "      <td>2553</td>\n",
              "      <td>0.792713</td>\n",
              "      <td>[9.610075673481075e-06]</td>\n",
              "      <td>[1.2963447464117889e-05]</td>\n",
              "    </tr>\n",
              "    <tr>\n",
              "      <th>97</th>\n",
              "      <td>2553</td>\n",
              "      <td>0.012789</td>\n",
              "      <td>[0.7665625436767046]</td>\n",
              "      <td>[0.014308577920244894]</td>\n",
              "    </tr>\n",
              "    <tr>\n",
              "      <th>98</th>\n",
              "      <td>2553</td>\n",
              "      <td>0.762809</td>\n",
              "      <td>[3.3857644397516173e-05]</td>\n",
              "      <td>[0.00015565633332592996]</td>\n",
              "    </tr>\n",
              "    <tr>\n",
              "      <th>99</th>\n",
              "      <td>2553</td>\n",
              "      <td>0.949433</td>\n",
              "      <td>[0.00026405806621165835]</td>\n",
              "      <td>[2.8723527808131894e-06]</td>\n",
              "    </tr>\n",
              "  </tbody>\n",
              "</table>\n",
              "<p>100 rows × 4 columns</p>\n",
              "</div>\n",
              "    <div class=\"colab-df-buttons\">\n",
              "\n",
              "  <div class=\"colab-df-container\">\n",
              "    <button class=\"colab-df-convert\" onclick=\"convertToInteractive('df-ead15d32-6ede-42a9-ab9d-21a24c6db376')\"\n",
              "            title=\"Convert this dataframe to an interactive table.\"\n",
              "            style=\"display:none;\">\n",
              "\n",
              "  <svg xmlns=\"http://www.w3.org/2000/svg\" height=\"24px\" viewBox=\"0 -960 960 960\">\n",
              "    <path d=\"M120-120v-720h720v720H120Zm60-500h600v-160H180v160Zm220 220h160v-160H400v160Zm0 220h160v-160H400v160ZM180-400h160v-160H180v160Zm440 0h160v-160H620v160ZM180-180h160v-160H180v160Zm440 0h160v-160H620v160Z\"/>\n",
              "  </svg>\n",
              "    </button>\n",
              "\n",
              "  <style>\n",
              "    .colab-df-container {\n",
              "      display:flex;\n",
              "      gap: 12px;\n",
              "    }\n",
              "\n",
              "    .colab-df-convert {\n",
              "      background-color: #E8F0FE;\n",
              "      border: none;\n",
              "      border-radius: 50%;\n",
              "      cursor: pointer;\n",
              "      display: none;\n",
              "      fill: #1967D2;\n",
              "      height: 32px;\n",
              "      padding: 0 0 0 0;\n",
              "      width: 32px;\n",
              "    }\n",
              "\n",
              "    .colab-df-convert:hover {\n",
              "      background-color: #E2EBFA;\n",
              "      box-shadow: 0px 1px 2px rgba(60, 64, 67, 0.3), 0px 1px 3px 1px rgba(60, 64, 67, 0.15);\n",
              "      fill: #174EA6;\n",
              "    }\n",
              "\n",
              "    .colab-df-buttons div {\n",
              "      margin-bottom: 4px;\n",
              "    }\n",
              "\n",
              "    [theme=dark] .colab-df-convert {\n",
              "      background-color: #3B4455;\n",
              "      fill: #D2E3FC;\n",
              "    }\n",
              "\n",
              "    [theme=dark] .colab-df-convert:hover {\n",
              "      background-color: #434B5C;\n",
              "      box-shadow: 0px 1px 3px 1px rgba(0, 0, 0, 0.15);\n",
              "      filter: drop-shadow(0px 1px 2px rgba(0, 0, 0, 0.3));\n",
              "      fill: #FFFFFF;\n",
              "    }\n",
              "  </style>\n",
              "\n",
              "    <script>\n",
              "      const buttonEl =\n",
              "        document.querySelector('#df-ead15d32-6ede-42a9-ab9d-21a24c6db376 button.colab-df-convert');\n",
              "      buttonEl.style.display =\n",
              "        google.colab.kernel.accessAllowed ? 'block' : 'none';\n",
              "\n",
              "      async function convertToInteractive(key) {\n",
              "        const element = document.querySelector('#df-ead15d32-6ede-42a9-ab9d-21a24c6db376');\n",
              "        const dataTable =\n",
              "          await google.colab.kernel.invokeFunction('convertToInteractive',\n",
              "                                                    [key], {});\n",
              "        if (!dataTable) return;\n",
              "\n",
              "        const docLinkHtml = 'Like what you see? Visit the ' +\n",
              "          '<a target=\"_blank\" href=https://colab.research.google.com/notebooks/data_table.ipynb>data table notebook</a>'\n",
              "          + ' to learn more about interactive tables.';\n",
              "        element.innerHTML = '';\n",
              "        dataTable['output_type'] = 'display_data';\n",
              "        await google.colab.output.renderOutput(dataTable, element);\n",
              "        const docLink = document.createElement('div');\n",
              "        docLink.innerHTML = docLinkHtml;\n",
              "        element.appendChild(docLink);\n",
              "      }\n",
              "    </script>\n",
              "  </div>\n",
              "\n",
              "\n",
              "<div id=\"df-fc556c85-f0ad-4f04-b702-f00bfb2693de\">\n",
              "  <button class=\"colab-df-quickchart\" onclick=\"quickchart('df-fc556c85-f0ad-4f04-b702-f00bfb2693de')\"\n",
              "            title=\"Suggest charts\"\n",
              "            style=\"display:none;\">\n",
              "\n",
              "<svg xmlns=\"http://www.w3.org/2000/svg\" height=\"24px\"viewBox=\"0 0 24 24\"\n",
              "     width=\"24px\">\n",
              "    <g>\n",
              "        <path d=\"M19 3H5c-1.1 0-2 .9-2 2v14c0 1.1.9 2 2 2h14c1.1 0 2-.9 2-2V5c0-1.1-.9-2-2-2zM9 17H7v-7h2v7zm4 0h-2V7h2v10zm4 0h-2v-4h2v4z\"/>\n",
              "    </g>\n",
              "</svg>\n",
              "  </button>\n",
              "\n",
              "<style>\n",
              "  .colab-df-quickchart {\n",
              "      --bg-color: #E8F0FE;\n",
              "      --fill-color: #1967D2;\n",
              "      --hover-bg-color: #E2EBFA;\n",
              "      --hover-fill-color: #174EA6;\n",
              "      --disabled-fill-color: #AAA;\n",
              "      --disabled-bg-color: #DDD;\n",
              "  }\n",
              "\n",
              "  [theme=dark] .colab-df-quickchart {\n",
              "      --bg-color: #3B4455;\n",
              "      --fill-color: #D2E3FC;\n",
              "      --hover-bg-color: #434B5C;\n",
              "      --hover-fill-color: #FFFFFF;\n",
              "      --disabled-bg-color: #3B4455;\n",
              "      --disabled-fill-color: #666;\n",
              "  }\n",
              "\n",
              "  .colab-df-quickchart {\n",
              "    background-color: var(--bg-color);\n",
              "    border: none;\n",
              "    border-radius: 50%;\n",
              "    cursor: pointer;\n",
              "    display: none;\n",
              "    fill: var(--fill-color);\n",
              "    height: 32px;\n",
              "    padding: 0;\n",
              "    width: 32px;\n",
              "  }\n",
              "\n",
              "  .colab-df-quickchart:hover {\n",
              "    background-color: var(--hover-bg-color);\n",
              "    box-shadow: 0 1px 2px rgba(60, 64, 67, 0.3), 0 1px 3px 1px rgba(60, 64, 67, 0.15);\n",
              "    fill: var(--button-hover-fill-color);\n",
              "  }\n",
              "\n",
              "  .colab-df-quickchart-complete:disabled,\n",
              "  .colab-df-quickchart-complete:disabled:hover {\n",
              "    background-color: var(--disabled-bg-color);\n",
              "    fill: var(--disabled-fill-color);\n",
              "    box-shadow: none;\n",
              "  }\n",
              "\n",
              "  .colab-df-spinner {\n",
              "    border: 2px solid var(--fill-color);\n",
              "    border-color: transparent;\n",
              "    border-bottom-color: var(--fill-color);\n",
              "    animation:\n",
              "      spin 1s steps(1) infinite;\n",
              "  }\n",
              "\n",
              "  @keyframes spin {\n",
              "    0% {\n",
              "      border-color: transparent;\n",
              "      border-bottom-color: var(--fill-color);\n",
              "      border-left-color: var(--fill-color);\n",
              "    }\n",
              "    20% {\n",
              "      border-color: transparent;\n",
              "      border-left-color: var(--fill-color);\n",
              "      border-top-color: var(--fill-color);\n",
              "    }\n",
              "    30% {\n",
              "      border-color: transparent;\n",
              "      border-left-color: var(--fill-color);\n",
              "      border-top-color: var(--fill-color);\n",
              "      border-right-color: var(--fill-color);\n",
              "    }\n",
              "    40% {\n",
              "      border-color: transparent;\n",
              "      border-right-color: var(--fill-color);\n",
              "      border-top-color: var(--fill-color);\n",
              "    }\n",
              "    60% {\n",
              "      border-color: transparent;\n",
              "      border-right-color: var(--fill-color);\n",
              "    }\n",
              "    80% {\n",
              "      border-color: transparent;\n",
              "      border-right-color: var(--fill-color);\n",
              "      border-bottom-color: var(--fill-color);\n",
              "    }\n",
              "    90% {\n",
              "      border-color: transparent;\n",
              "      border-bottom-color: var(--fill-color);\n",
              "    }\n",
              "  }\n",
              "</style>\n",
              "\n",
              "  <script>\n",
              "    async function quickchart(key) {\n",
              "      const quickchartButtonEl =\n",
              "        document.querySelector('#' + key + ' button');\n",
              "      quickchartButtonEl.disabled = true;  // To prevent multiple clicks.\n",
              "      quickchartButtonEl.classList.add('colab-df-spinner');\n",
              "      try {\n",
              "        const charts = await google.colab.kernel.invokeFunction(\n",
              "            'suggestCharts', [key], {});\n",
              "      } catch (error) {\n",
              "        console.error('Error during call to suggestCharts:', error);\n",
              "      }\n",
              "      quickchartButtonEl.classList.remove('colab-df-spinner');\n",
              "      quickchartButtonEl.classList.add('colab-df-quickchart-complete');\n",
              "    }\n",
              "    (() => {\n",
              "      let quickchartButtonEl =\n",
              "        document.querySelector('#df-fc556c85-f0ad-4f04-b702-f00bfb2693de button');\n",
              "      quickchartButtonEl.style.display =\n",
              "        google.colab.kernel.accessAllowed ? 'block' : 'none';\n",
              "    })();\n",
              "  </script>\n",
              "</div>\n",
              "    </div>\n",
              "  </div>\n"
            ]
          },
          "metadata": {}
        }
      ]
    },
    {
      "cell_type": "markdown",
      "source": [
        "And Finally Graph your result:"
      ],
      "metadata": {
        "id": "xdpNisF7ArGv"
      }
    },
    {
      "cell_type": "code",
      "source": [
        "import matplotlib.pyplot as plt\n",
        "import numpy as np\n",
        "\n",
        "# data for plotting\n",
        "t = data_frame['Epsilon']\n",
        "s = data_frame['Laplace Err']\n",
        "r = data_frame['Gaussian Err']\n",
        "plt.plot(t, s, 'o')\n",
        "plt.plot(t, r, 'r+')\n",
        "plt.xlabel(\"Eps\")\n",
        "plt.ylabel(\"Err\")\n",
        "plt.show()"
      ],
      "metadata": {
        "id": "h2zCcV1XAxwJ",
        "colab": {
          "base_uri": "https://localhost:8080/",
          "height": 449
        },
        "outputId": "b951e035-fb0b-4874-cc01-d604bf33d73a"
      },
      "execution_count": 55,
      "outputs": [
        {
          "output_type": "display_data",
          "data": {
            "text/plain": [
              "<Figure size 640x480 with 1 Axes>"
            ],
            "image/png": "[encoded data removed]"
          },
          "metadata": {}
        }
      ]
    }
  ]
}